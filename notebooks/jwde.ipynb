{
 "cells": [
  {
   "cell_type": "markdown",
   "metadata": {},
   "source": [
    "# Weekly number 1 songs danceability."
   ]
  },
  {
   "cell_type": "code",
   "execution_count": 96,
   "metadata": {},
   "outputs": [],
   "source": [
    "import pandas as pd\n",
    "import matplotlib.pyplot as plt\n",
    "# Loading the Spotify songs and Billboard top 100 songs\n",
    "songs = pd.read_csv('../data/raw/1/data.csv', usecols=['artists', 'name', 'danceability', 'year'])\n",
    "top = pd.read_csv('../data/raw/2/kcmillersean-billboard-hot-100-1958-2017/data/hot_stuff_2.csv', usecols=['weekid', 'week_position', 'song', 'performer'])"
   ]
  },
  {
   "cell_type": "code",
   "execution_count": 130,
   "metadata": {},
   "outputs": [],
   "source": [
    "# Clean up of the top 100 songs list. This list contains duplicates due to multiple weeks at number 1\n",
    "newtop = top.drop_duplicates(['song', 'performer'], keep = 'last')\n",
    "newtop = newtop[newtop['week_position'] == 1]\n",
    "newtop['weekid'] = newtop['weekid'].map(lambda x: int(x[:4]))\n",
    "newtop = newtop.rename(columns = {'weekid' : 'year', 'week_position' : 'position', 'song' : 'name', 'performer' : 'artists'})"
   ]
  },
  {
   "cell_type": "code",
   "execution_count": 132,
   "metadata": {},
   "outputs": [
    {
     "data": {
      "text/html": [
       "<div>\n",
       "<style scoped>\n",
       "    .dataframe tbody tr th:only-of-type {\n",
       "        vertical-align: middle;\n",
       "    }\n",
       "\n",
       "    .dataframe tbody tr th {\n",
       "        vertical-align: top;\n",
       "    }\n",
       "\n",
       "    .dataframe thead th {\n",
       "        text-align: right;\n",
       "    }\n",
       "</style>\n",
       "<table border=\"1\" class=\"dataframe\">\n",
       "  <thead>\n",
       "    <tr style=\"text-align: right;\">\n",
       "      <th></th>\n",
       "      <th>artists_x</th>\n",
       "      <th>danceability</th>\n",
       "      <th>name</th>\n",
       "      <th>year</th>\n",
       "      <th>position</th>\n",
       "      <th>artists_y</th>\n",
       "    </tr>\n",
       "  </thead>\n",
       "  <tbody>\n",
       "    <tr>\n",
       "      <th>1</th>\n",
       "      <td>['Frank Sinatra', 'Nancy Sinatra']</td>\n",
       "      <td>0.257</td>\n",
       "      <td>Somethin' Stupid</td>\n",
       "      <td>1967</td>\n",
       "      <td>1</td>\n",
       "      <td>Nancy Sinatra &amp; Frank Sinatra</td>\n",
       "    </tr>\n",
       "    <tr>\n",
       "      <th>5</th>\n",
       "      <td>['Elvis Presley']</td>\n",
       "      <td>0.219</td>\n",
       "      <td>Bridge Over Troubled Water</td>\n",
       "      <td>1970</td>\n",
       "      <td>1</td>\n",
       "      <td>Simon &amp; Garfunkel</td>\n",
       "    </tr>\n",
       "    <tr>\n",
       "      <th>6</th>\n",
       "      <td>['OutKast']</td>\n",
       "      <td>0.838</td>\n",
       "      <td>Ms. Jackson</td>\n",
       "      <td>2001</td>\n",
       "      <td>1</td>\n",
       "      <td>OutKast</td>\n",
       "    </tr>\n",
       "    <tr>\n",
       "      <th>8</th>\n",
       "      <td>['Flo Rida']</td>\n",
       "      <td>0.720</td>\n",
       "      <td>Right Round</td>\n",
       "      <td>2009</td>\n",
       "      <td>1</td>\n",
       "      <td>Flo Rida</td>\n",
       "    </tr>\n",
       "    <tr>\n",
       "      <th>10</th>\n",
       "      <td>['Anita Ward']</td>\n",
       "      <td>0.783</td>\n",
       "      <td>Ring My Bell</td>\n",
       "      <td>1979</td>\n",
       "      <td>1</td>\n",
       "      <td>Anita Ward</td>\n",
       "    </tr>\n",
       "    <tr>\n",
       "      <th>...</th>\n",
       "      <td>...</td>\n",
       "      <td>...</td>\n",
       "      <td>...</td>\n",
       "      <td>...</td>\n",
       "      <td>...</td>\n",
       "      <td>...</td>\n",
       "    </tr>\n",
       "    <tr>\n",
       "      <th>107</th>\n",
       "      <td>['Alan Jackson']</td>\n",
       "      <td>0.590</td>\n",
       "      <td>Someday</td>\n",
       "      <td>1991</td>\n",
       "      <td>1</td>\n",
       "      <td>Mariah Carey</td>\n",
       "    </tr>\n",
       "    <tr>\n",
       "      <th>108</th>\n",
       "      <td>['Otis Redding']</td>\n",
       "      <td>0.772</td>\n",
       "      <td>(I Can't Get No) Satisfaction</td>\n",
       "      <td>1965</td>\n",
       "      <td>1</td>\n",
       "      <td>The Rolling Stones</td>\n",
       "    </tr>\n",
       "    <tr>\n",
       "      <th>109</th>\n",
       "      <td>['The Temptations']</td>\n",
       "      <td>0.855</td>\n",
       "      <td>Papa Was A Rollin' Stone</td>\n",
       "      <td>1972</td>\n",
       "      <td>1</td>\n",
       "      <td>The Temptations</td>\n",
       "    </tr>\n",
       "    <tr>\n",
       "      <th>110</th>\n",
       "      <td>['Richard Marx']</td>\n",
       "      <td>0.572</td>\n",
       "      <td>Satisfied</td>\n",
       "      <td>1989</td>\n",
       "      <td>1</td>\n",
       "      <td>Richard Marx</td>\n",
       "    </tr>\n",
       "    <tr>\n",
       "      <th>111</th>\n",
       "      <td>['Bill Conti', 'Vincent DeRosa', 'Mike Lang']</td>\n",
       "      <td>0.148</td>\n",
       "      <td>Mickey</td>\n",
       "      <td>1982</td>\n",
       "      <td>1</td>\n",
       "      <td>Toni Basil</td>\n",
       "    </tr>\n",
       "  </tbody>\n",
       "</table>\n",
       "<p>79 rows × 6 columns</p>\n",
       "</div>"
      ],
      "text/plain": [
       "                                         artists_x  danceability  \\\n",
       "1               ['Frank Sinatra', 'Nancy Sinatra']         0.257   \n",
       "5                                ['Elvis Presley']         0.219   \n",
       "6                                      ['OutKast']         0.838   \n",
       "8                                     ['Flo Rida']         0.720   \n",
       "10                                  ['Anita Ward']         0.783   \n",
       "..                                             ...           ...   \n",
       "107                               ['Alan Jackson']         0.590   \n",
       "108                               ['Otis Redding']         0.772   \n",
       "109                            ['The Temptations']         0.855   \n",
       "110                               ['Richard Marx']         0.572   \n",
       "111  ['Bill Conti', 'Vincent DeRosa', 'Mike Lang']         0.148   \n",
       "\n",
       "                              name  year  position  \\\n",
       "1                 Somethin' Stupid  1967         1   \n",
       "5       Bridge Over Troubled Water  1970         1   \n",
       "6                      Ms. Jackson  2001         1   \n",
       "8                      Right Round  2009         1   \n",
       "10                    Ring My Bell  1979         1   \n",
       "..                             ...   ...       ...   \n",
       "107                        Someday  1991         1   \n",
       "108  (I Can't Get No) Satisfaction  1965         1   \n",
       "109       Papa Was A Rollin' Stone  1972         1   \n",
       "110                      Satisfied  1989         1   \n",
       "111                         Mickey  1982         1   \n",
       "\n",
       "                         artists_y  \n",
       "1    Nancy Sinatra & Frank Sinatra  \n",
       "5                Simon & Garfunkel  \n",
       "6                          OutKast  \n",
       "8                         Flo Rida  \n",
       "10                      Anita Ward  \n",
       "..                             ...  \n",
       "107                   Mariah Carey  \n",
       "108             The Rolling Stones  \n",
       "109                The Temptations  \n",
       "110                   Richard Marx  \n",
       "111                     Toni Basil  \n",
       "\n",
       "[79 rows x 6 columns]"
      ]
     },
     "execution_count": 132,
     "metadata": {},
     "output_type": "execute_result"
    }
   ],
   "source": [
    "# Merging of the 2 lists using a join. We only want the songs that were number 1 at some point during their release year\n",
    "combine = pd.merge(left=songs, right=newtop, left_on=['name','year'], right_on=['name','year'])\n",
    "combine = combine.drop_duplicates(['artists_y', 'name'], keep = 'last')\n",
    "combine\n",
    "\n",
    "# Note: These lists need more scrubbing and sanitizing before merging. Clearly merging by artists is needed to properlly\n",
    "# join the dataframes."
   ]
  },
  {
   "cell_type": "code",
   "execution_count": 131,
   "metadata": {},
   "outputs": [
    {
     "data": {
      "text/plain": [
       "<AxesSubplot:title={'center':'Dance Dance'}, xlabel='year', ylabel='danceability'>"
      ]
     },
     "execution_count": 131,
     "metadata": {},
     "output_type": "execute_result"
    },
    {
     "data": {
      "image/png": "[encoded data removed]",
      "text/plain": [
       "<Figure size 432x288 with 1 Axes>"
      ]
     },
     "metadata": {
      "needs_background": "light"
     },
     "output_type": "display_data"
    }
   ],
   "source": [
    "# A simple plot to visualize danceability over the dataset\n",
    "combine.plot(kind='scatter', x='year', y='danceability', title='Dance Dance')"
   ]
  }
 ],
 "metadata": {
  "kernelspec": {
   "display_name": "Python 3",
   "language": "python",
   "name": "python3"
  },
  "language_info": {
   "codemirror_mode": {
    "name": "ipython",
    "version": 3
   },
   "file_extension": ".py",
   "mimetype": "text/x-python",
   "name": "python",
   "nbconvert_exporter": "python",
   "pygments_lexer": "ipython3",
   "version": "3.8.2"
  }
 },
 "nbformat": 4,
 "nbformat_minor": 4
}
